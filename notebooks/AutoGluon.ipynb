{
 "cells": [
  {
   "cell_type": "code",
   "execution_count": 2,
   "metadata": {},
   "outputs": [],
   "source": [
    "import os\n",
    "import autogluon as ag\n",
    "from autogluon import TabularPrediction as task"
   ]
  },
  {
   "cell_type": "code",
   "execution_count": 3,
   "metadata": {},
   "outputs": [],
   "source": [
    "proj_dir = os.path.abspath(os.getcwd() + os.sep + os.pardir) + os.sep\n",
    "data_dir = os.path.join(proj_dir, \"data\") + os.sep\n",
    "os.makedirs(data_dir, exist_ok=True)"
   ]
  },
  {
   "cell_type": "code",
   "execution_count": 5,
   "metadata": {},
   "outputs": [
    {
     "name": "stderr",
     "output_type": "stream",
     "text": [
      "Loaded data from: https://autogluon.s3.amazonaws.com/datasets/AdultIncomeBinaryClassification/train_data.csv | Columns = 15 / 15 | Rows = 39073 -> 39073\n"
     ]
    },
    {
     "ename": "TypeError",
     "evalue": "_call() takes 0 positional arguments but 1 was given",
     "output_type": "error",
     "traceback": [
      "\u001b[0;31m---------------------------------------------------------------------------\u001b[0m",
      "\u001b[0;31mTypeError\u001b[0m                                 Traceback (most recent call last)",
      "\u001b[0;32m<ipython-input-5-2666bea8bf44>\u001b[0m in \u001b[0;36m<module>\u001b[0;34m\u001b[0m\n\u001b[1;32m      3\u001b[0m \u001b[0;31m# train_path = data_dir + \"titanic_clean.csv\"\u001b[0m\u001b[0;34m\u001b[0m\u001b[0;34m\u001b[0m\u001b[0;34m\u001b[0m\u001b[0m\n\u001b[1;32m      4\u001b[0m \u001b[0mtrain_data\u001b[0m \u001b[0;34m=\u001b[0m \u001b[0mtask\u001b[0m\u001b[0;34m.\u001b[0m\u001b[0mDataset\u001b[0m\u001b[0;34m(\u001b[0m\u001b[0mfile_path\u001b[0m\u001b[0;34m=\u001b[0m\u001b[0mtrain_path\u001b[0m\u001b[0;34m)\u001b[0m\u001b[0;34m\u001b[0m\u001b[0;34m\u001b[0m\u001b[0m\n\u001b[0;32m----> 5\u001b[0;31m \u001b[0mpredictor\u001b[0m \u001b[0;34m=\u001b[0m \u001b[0mtask\u001b[0m\u001b[0;34m.\u001b[0m\u001b[0mfit\u001b[0m\u001b[0;34m(\u001b[0m\u001b[0mtrain_data\u001b[0m\u001b[0;34m,\u001b[0m \u001b[0mlabel\u001b[0m\u001b[0;34m=\u001b[0m\u001b[0;34m'survived'\u001b[0m\u001b[0;34m,\u001b[0m \u001b[0moutput_directory\u001b[0m\u001b[0;34m=\u001b[0m\u001b[0;34m'ag-example-out/'\u001b[0m\u001b[0;34m)\u001b[0m\u001b[0;34m\u001b[0m\u001b[0;34m\u001b[0m\u001b[0m\n\u001b[0m",
      "\u001b[0;31mTypeError\u001b[0m: _call() takes 0 positional arguments but 1 was given"
     ]
    }
   ],
   "source": [
    "# example from https://towardsdatascience.com/autogluon-deep-learning-automl-5cdb4e2388ec\n",
    "train_path = 'https://autogluon.s3.amazonaws.com/datasets/AdultIncomeBinaryClassification/train_data.csv'\n",
    "# train_path = data_dir + \"titanic_clean.csv\"\n",
    "train_data = task.Dataset(file_path=train_path)\n",
    "predictor = task.fit(train_data, label='survived', output_directory='ag-example-out/')"
   ]
  },
  {
   "cell_type": "code",
   "execution_count": 6,
   "metadata": {},
   "outputs": [
    {
     "name": "stdout",
     "output_type": "stream",
     "text": [
      "Package                Version\n",
      "---------------------- ------------\n",
      "attrs                  19.3.0\n",
      "autogluon              0.0.12\n",
      "backcall               0.2.0\n",
      "bcrypt                 3.1.7\n",
      "bleach                 3.1.5\n",
      "boto3                  1.14.24\n",
      "botocore               1.17.24\n",
      "brotlipy               0.7.0\n",
      "catboost               0.23.2\n",
      "certifi                2020.6.20\n",
      "cffi                   1.14.0\n",
      "chardet                3.0.4\n",
      "click                  7.1.2\n",
      "cloudpickle            1.5.0\n",
      "conda                  4.8.3\n",
      "conda-package-handling 1.7.0\n",
      "ConfigSpace            0.4.10\n",
      "cryptography           2.9.2\n",
      "cycler                 0.10.0\n",
      "Cython                 0.29.21\n",
      "dabl                   0.1.9.dev0\n",
      "dask                   2.21.0\n",
      "decorator              4.4.2\n",
      "defusedxml             0.6.0\n",
      "distributed            2.21.0\n",
      "docutils               0.15.2\n",
      "entrypoints            0.3\n",
      "gluoncv                0.7.0\n",
      "graphviz               0.8.4\n",
      "HeapDict               1.0.1\n",
      "idna                   2.9\n",
      "importlib-metadata     1.7.0\n",
      "ipykernel              5.3.3\n",
      "ipython                7.16.1\n",
      "ipython-genutils       0.2.0\n",
      "ipywidgets             7.5.1\n",
      "jedi                   0.17.2\n",
      "Jinja2                 2.11.2\n",
      "jmespath               0.10.0\n",
      "joblib                 0.16.0\n",
      "json5                  0.9.5\n",
      "jsonschema             3.2.0\n",
      "jupyter                1.0.0\n",
      "jupyter-client         6.1.6\n",
      "jupyter-console        6.1.0\n",
      "jupyter-core           4.6.3\n",
      "jupyterlab             2.2.0\n",
      "jupyterlab-server      1.2.0\n",
      "kiwisolver             1.2.0\n",
      "liac-arff              2.4.0\n",
      "lightgbm               2.3.1\n",
      "MarkupSafe             1.1.1\n",
      "matplotlib             3.3.0\n",
      "mistune                0.8.4\n",
      "more-itertools         8.4.0\n",
      "msgpack                1.0.0\n",
      "mxnet-mkl              1.6.0\n",
      "nbconvert              5.6.1\n",
      "nbformat               5.0.7\n",
      "networkx               2.4\n",
      "notebook               6.0.3\n",
      "numpy                  1.19.0\n",
      "openml                 0.10.2\n",
      "packaging              20.4\n",
      "pandas                 0.25.3\n",
      "pandocfilters          1.4.2\n",
      "paramiko               2.7.1\n",
      "parso                  0.7.0\n",
      "pexpect                4.8.0\n",
      "pickleshare            0.7.5\n",
      "Pillow                 6.2.1\n",
      "pip                    20.1.1\n",
      "plotly                 4.9.0\n",
      "pluggy                 0.13.1\n",
      "portalocker            1.7.1\n",
      "prometheus-client      0.8.0\n",
      "prompt-toolkit         3.0.5\n",
      "psutil                 5.7.2\n",
      "ptyprocess             0.6.0\n",
      "py                     1.9.0\n",
      "pyaml                  20.4.0\n",
      "pycosat                0.6.3\n",
      "pycparser              2.20\n",
      "Pygments               2.6.1\n",
      "PyNaCl                 1.4.0\n",
      "pyOpenSSL              19.1.0\n",
      "pyparsing              3.0.0a2\n",
      "pyrsistent             0.16.0\n",
      "PySocks                1.7.1\n",
      "pytest                 5.4.3\n",
      "python-dateutil        2.8.1\n",
      "pytz                   2020.1\n",
      "PyYAML                 5.3.1\n",
      "pyzmq                  19.0.1\n",
      "qtconsole              4.7.5\n",
      "QtPy                   1.9.0\n",
      "requests               2.24.0\n",
      "retrying               1.3.3\n",
      "ruamel-yaml            0.15.87\n",
      "s3transfer             0.3.3\n",
      "scikit-learn           0.22.2.post1\n",
      "scikit-optimize        0.7.4\n",
      "scipy                  1.5.1\n",
      "seaborn                0.10.1\n",
      "Send2Trash             1.5.0\n",
      "setuptools             49.2.0\n",
      "six                    1.15.0\n",
      "sortedcontainers       2.2.2\n",
      "tblib                  1.6.0\n",
      "terminado              0.8.3\n",
      "testpath               0.4.4\n",
      "threadpoolctl          2.1.0\n",
      "toolz                  0.10.0\n",
      "tornado                6.0.4\n",
      "tqdm                   4.46.1\n",
      "traitlets              4.3.3\n",
      "typing                 3.7.4.3\n",
      "urllib3                1.25.9\n",
      "wcwidth                0.2.5\n",
      "webencodings           0.5.1\n",
      "wheel                  0.34.2\n",
      "widgetsnbextension     3.5.1\n",
      "xmltodict              0.12.0\n",
      "zict                   2.0.0\n",
      "zipp                   3.1.0\n"
     ]
    }
   ],
   "source": [
    "!pip list"
   ]
  }
 ],
 "metadata": {
  "kernelspec": {
   "display_name": "Python 3",
   "language": "python",
   "name": "python3"
  },
  "language_info": {
   "codemirror_mode": {
    "name": "ipython",
    "version": 3
   },
   "file_extension": ".py",
   "mimetype": "text/x-python",
   "name": "python",
   "nbconvert_exporter": "python",
   "pygments_lexer": "ipython3",
   "version": "3.7.7"
  }
 },
 "nbformat": 4,
 "nbformat_minor": 4
}
